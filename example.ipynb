{
 "cells": [
  {
   "cell_type": "code",
   "execution_count": null,
   "metadata": {},
   "outputs": [],
   "source": [
    "import pandas as pd\n",
    "import matplotlib.pyplot as plt\n",
    "\n",
    "from sklearn.tree import DecisionTreeClassifier\n",
    "from sklearn.model_selection import train_test_split, cross_val_score\n",
    "from sklearn.metrics import roc_auc_score\n",
    "\n",
    "headers = ['column' + str(i+1) for i in range(30)] \n",
    "data = pd.read_csv(\"train.csv\", names = headers)\n",
    "data_predict = pd.read_csv(\"test.csv\", names = headers)\n",
    "\n",
    "drop_columns = ['column10','column16','column17','column18', 'column23', 'column27']\n",
    "\n",
    "data_predict.drop(columns = (drop_columns), inplace = True)\n",
    "data.drop(columns = (drop_columns), inplace = True)\n",
    "\n",
    "y = pd.read_csv(\"train-target.csv\", names = ['answer'])\n",
    "X_train, X_valid, y_train, y_valid = train_test_split(data, y, test_size = 0.3, random_state = 30)\n",
    "\n",
    "model =  RandomForestClassifier(n_estimators = 15)\n",
    "\n",
    "rf_params = {'max_depth': 20, 'max_features': 20}\n",
    "model.estimator_params = rf_params\n",
    "model.n_estimators = 3000\n",
    "model.fit(X_train, y_train.values.ravel())\n",
    "\n",
    "result = []\n",
    "for element in model.predict_proba(X_valid):\n",
    "    result.append(element[1])  \n",
    "    \n",
    "roc_auc_score(y_valid, result)\n",
    "\n",
    "\n",
    "result = []\n",
    "for element in model.predict_proba(data_predict):\n",
    "    result.append(element[1]) \n",
    "\n",
    "np.savetxt(\"result.csv\", result, delimiter=\",\")\n",
    "\n"
   ]
  }
 ],
 "metadata": {
  "kernelspec": {
   "display_name": "Python 3",
   "language": "python",
   "name": "python3"
  },
  "language_info": {
   "codemirror_mode": {
    "name": "ipython",
    "version": 3
   },
   "file_extension": ".py",
   "mimetype": "text/x-python",
   "name": "python",
   "nbconvert_exporter": "python",
   "pygments_lexer": "ipython3",
   "version": "3.7.1"
  },
  "toc": {
   "base_numbering": 1,
   "nav_menu": {},
   "number_sections": true,
   "sideBar": true,
   "skip_h1_title": false,
   "title_cell": "Table of Contents",
   "title_sidebar": "Contents",
   "toc_cell": false,
   "toc_position": {},
   "toc_section_display": true,
   "toc_window_display": false
  },
  "varInspector": {
   "cols": {
    "lenName": 16,
    "lenType": 16,
    "lenVar": 40
   },
   "kernels_config": {
    "python": {
     "delete_cmd_postfix": "",
     "delete_cmd_prefix": "del ",
     "library": "var_list.py",
     "varRefreshCmd": "print(var_dic_list())"
    },
    "r": {
     "delete_cmd_postfix": ") ",
     "delete_cmd_prefix": "rm(",
     "library": "var_list.r",
     "varRefreshCmd": "cat(var_dic_list()) "
    }
   },
   "types_to_exclude": [
    "module",
    "function",
    "builtin_function_or_method",
    "instance",
    "_Feature"
   ],
   "window_display": false
  }
 },
 "nbformat": 4,
 "nbformat_minor": 2
}
